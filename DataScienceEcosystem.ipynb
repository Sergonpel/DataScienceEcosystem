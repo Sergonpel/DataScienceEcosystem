{
 "cells": [
  {
   "cell_type": "markdown",
   "id": "0a0a4151-62aa-4a7e-befe-0f4042512b63",
   "metadata": {},
   "source": [
    "<center>\n",
    "    <img src=\"https://cf-courses-data.s3.us.cloud-object-storage.appdomain.cloud/IBMDeveloperSkillsNetwork-DS0105EN-SkillsNetwork/labs/Module2/images/SN_web_lightmode.png\" width=\"300\" alt=\"cognitiveclass.ai logo\">\n",
    "</center>\n"
   ]
  },
  {
   "cell_type": "markdown",
   "id": "43826f90-223d-471b-9153-375137adc557",
   "metadata": {},
   "source": [
    "#### Add your code below following the instructions given in the course"
   ]
  },
  {
   "cell_type": "markdown",
   "id": "ce889eb9-7279-4326-a78a-da32222d76a3",
   "metadata": {},
   "source": [
    "_Exercise 1: Create a Jupyter Notebook_\n",
    "\n",
    "_Create a new Jupyter notebook called DataScienceEcosystem.ipynb_"
   ]
  },
  {
   "cell_type": "markdown",
   "id": "921255d8-8ddc-4542-98a3-4d79b4847ad7",
   "metadata": {},
   "source": [
    "_Exercise 2: Create markdown cell with title of the notebook_\n",
    "\n",
    "_Create a markdown cell with the title Data Science Tools and Ecosystem using H1 style heading._"
   ]
  },
  {
   "cell_type": "markdown",
   "id": "9345fcd4-6dad-4bbd-abed-011d02154c91",
   "metadata": {},
   "source": [
    "# Data Science Tools and Ecosystem"
   ]
  },
  {
   "cell_type": "markdown",
   "id": "c6a863a4-67b3-4fbf-a1d1-c99274b81642",
   "metadata": {},
   "source": [
    "_Exercise 3 - Create a markdown cell for an introduction_\n",
    "_Write an introductory sentence about the notebook such as the follows:_"
   ]
  },
  {
   "cell_type": "markdown",
   "id": "973656ff-8c53-49ff-90f6-a76e95b0758d",
   "metadata": {},
   "source": [
    "In this notebook, Data Science Tools and Ecosystem are summarized."
   ]
  },
  {
   "cell_type": "markdown",
   "id": "e647dbbf-30b0-4bf8-8ab9-100c11ae6152",
   "metadata": {},
   "source": [
    "**Objectives**\n",
    "\n",
    "- List popular languages for Data Science\n",
    "- List commonly used libraries for Data Science\n",
    "- Create tables\n",
    "- Perform arithmetic operations"
   ]
  },
  {
   "cell_type": "markdown",
   "id": "2f544755-5050-493c-9b4f-08a4a05d036d",
   "metadata": {},
   "source": [
    "_Exercise 4 - Create a markdown cell to list data science languages_\n",
    "\n",
    "_Start the cell with an overview line such as:_"
   ]
  },
  {
   "cell_type": "markdown",
   "id": "94593f89-6eec-4376-9a00-7676a49e0a72",
   "metadata": {},
   "source": [
    "Some of the popular languages that Data Scientists use are:\n",
    "1. Python\n",
    "2. R\n",
    "3. SQL\n",
    "4. Julia\n",
    "5. Java"
   ]
  },
  {
   "cell_type": "markdown",
   "id": "6fe38b19-5d6a-4db3-b9bb-dc099d4ade64",
   "metadata": {},
   "source": [
    "_Exercise 5 - Create a markdown cell to list data science libraries_\n",
    "\n",
    "_Add an overview line to the cell like:_"
   ]
  },
  {
   "cell_type": "markdown",
   "id": "326939c8-f609-4c2f-9ab0-aec0ff98c3b8",
   "metadata": {},
   "source": [
    "Some of the commonly used libraries used by Data Scientists include:\n",
    "1. NumPy\n",
    "2. Pandas\n",
    "3. Matplotlib\n",
    "4. Scikit-learn\n",
    "5. TensorFlow"
   ]
  },
  {
   "cell_type": "markdown",
   "id": "1f20f02e-81aa-4ea6-81d8-a8be5f1ec71e",
   "metadata": {},
   "source": [
    "_Exercise 6 - Create a markdown cell with a table of Data Science tools_\n",
    "\n",
    "_Create a single column table in this cell with the first row containing the header Data Science Tools. The subsequent three rows in the table should indicate three development environment open source tools used in data science._"
   ]
  },
  {
   "cell_type": "markdown",
   "id": "27097f7c-4776-478a-bc63-98b5d678a55f",
   "metadata": {},
   "source": [
    "| Data Science Tools |\n",
    "| -------------|\n",
    "| Jupyter Notebook |\n",
    "| RStudio |\n",
    "| Apache Zeppelin |"
   ]
  },
  {
   "cell_type": "markdown",
   "id": "ea9c6c1f-ea41-42a3-a49a-40b0c791db4e",
   "metadata": {},
   "source": [
    "_Exercise 7 - Create a markdown cell introducing arithmetic expression examples_\n",
    "_Add a line in this cell with H3 style heading with text like:_"
   ]
  },
  {
   "cell_type": "markdown",
   "id": "75c7eb4e-da66-45ad-9cb4-d2788a12173c",
   "metadata": {},
   "source": [
    "### Below are a few examples of evaluating arithmetic expressions in Python"
   ]
  },
  {
   "cell_type": "markdown",
   "id": "a0401076-e1dd-4519-b53a-a4eb58f5ee69",
   "metadata": {},
   "source": [
    "_Exercise 8 - Create a code cell to multiply and add numbers_\n",
    "\n",
    "_In this code cell evaluate the expression (3*4)+5._\n",
    "_Insert a comment line before the expression to explain the operation e.g.  This a simple arithmetic expression to mutiply then add integers._\n",
    "_Then execute the cell to ensure the expression returns the expected output of 17._"
   ]
  },
  {
   "cell_type": "code",
   "execution_count": 17,
   "id": "4e22ec22-8ab6-4f73-bc50-985c18b16eac",
   "metadata": {
    "scrolled": true
   },
   "outputs": [
    {
     "data": {
      "text/plain": [
       "17"
      ]
     },
     "execution_count": 17,
     "metadata": {},
     "output_type": "execute_result"
    }
   ],
   "source": [
    "# This a simple arithmetic expression to multiply then add integers\n",
    "(3 * 4) + 5"
   ]
  },
  {
   "cell_type": "markdown",
   "id": "191829b1-418f-4492-bd04-85511afe9308",
   "metadata": {},
   "source": [
    "_Exercise 9 - Create a code cell to convert minutes to hours_\n",
    "\n",
    "_In this code cell write an expression that converts 200 minutes into hours._\n",
    "_Insert a comment line before the expression to explain the operation e.g.  This will convert 200 minutes to hours by diving by 60._\n",
    "_Run the cell to evaluate the expression._"
   ]
  },
  {
   "cell_type": "code",
   "execution_count": 19,
   "id": "e668e662-cc57-48bb-b02f-3f071628c644",
   "metadata": {},
   "outputs": [
    {
     "data": {
      "text/plain": [
       "3.3333333333333335"
      ]
     },
     "execution_count": 19,
     "metadata": {},
     "output_type": "execute_result"
    }
   ],
   "source": [
    "#This will convert 200 minutes to hours by diving by 60\n",
    "\n",
    "200 / 60"
   ]
  },
  {
   "cell_type": "markdown",
   "id": "1e4dce64-d25d-41c1-bc78-ceb1134bef05",
   "metadata": {},
   "source": [
    "_Exercise 10 - Insert a markdown cell to list Objectives_\n",
    "\n",
    "_Below the introduction cell created in Exercise 3, insert a new markdown cell to list the objectives that this notebook covered (i.e. some of the key takeaways from the course). In this new cell start with an introductory line titled: Objectives: in bold font. Then using an unordered list (bullets) indicate 3 to 5 items covered in this notebook, such as List popular languages for Data Science._"
   ]
  },
  {
   "cell_type": "markdown",
   "id": "97f9bdf6-719f-4a5b-95a8-e50f6fc13c40",
   "metadata": {},
   "source": [
    "_Exercise 11 - Create a markdown cell to indicate the Author's name_\n",
    "\n",
    "_In this markdown cell include the following text Author in H2 style heading. Include your name as regular text below the word Author._"
   ]
  },
  {
   "cell_type": "markdown",
   "id": "a6553468-7ff6-4268-a6fd-22430f569b1c",
   "metadata": {},
   "source": [
    "## Author\n",
    "Sergio González Pellejero"
   ]
  },
  {
   "cell_type": "code",
   "execution_count": null,
   "id": "bbfc07d4-591e-4678-81d2-df5292c23952",
   "metadata": {},
   "outputs": [],
   "source": []
  }
 ],
 "metadata": {
  "kernelspec": {
   "display_name": "Python [conda env:base] *",
   "language": "python",
   "name": "conda-base-py"
  },
  "language_info": {
   "codemirror_mode": {
    "name": "ipython",
    "version": 3
   },
   "file_extension": ".py",
   "mimetype": "text/x-python",
   "name": "python",
   "nbconvert_exporter": "python",
   "pygments_lexer": "ipython3",
   "version": "3.12.7"
  }
 },
 "nbformat": 4,
 "nbformat_minor": 5
}
